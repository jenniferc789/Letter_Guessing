{
 "cells": [
  {
   "cell_type": "markdown",
   "metadata": {},
   "source": [
    "**Create a Letter Guessing Game**\n",
    "\n",
    "Create a program that allows a user 7 chances to guess the correct word. If they do not guess the word after 7 tries, the player loses and the program will print the correct word. Otherwise, the play wins and the game.\n",
    "\n",
    "**How to build the program**\n",
    "* When you start the game, you will need to select a random word from a list of at least 10 words (You have full control over which words you want to use for you program). This will be your secret word. Your secret word will be represented in the program as a group of underscores. For as long as the word is, you should also have that many underscores. \n",
    "\n",
    "* Once the word is selected, your game will commence. Perform a Google search to figure out how to select a random word from a list using Python.<br>\n",
    "**Hint** There's package you can import into your application that does this for you.\n",
    "\n",
    "* The end user will have a total of 7 chances to guess the correct letter from the secret word. If the end user makes 7 incorrect guesses, the game will end.\n",
    "\n",
    "* As you guess the correct letters, the letters you have guess will then take place of the underscores that letter represents. <br>\n",
    "**For Example**: If your secret word is 'watermelon' and  so far you have guessed the letters 'a' and 'e', the word you're trying to guess will appear as follows: _ a _ e _ _ e _ _ _.<br>\n",
    "**Keep in mind** that if you guess a letter that appears more than once in your secret word, make sure that the letter is populated anywhere that letter would be."
   ]
  },
  {
   "cell_type": "code",
   "execution_count": null,
   "metadata": {
    "scrolled": true
   },
   "outputs": [],
   "source": [
    "import random\n",
    "\n",
    "\n",
    "class Run:\n",
    "    def __init__(self):\n",
    "        print(\"\"\"\n",
    "        Welcome to a Letter Guessing Game!\n",
    "        You have total of 7 chances to guess the letters of the word. Good luck!\n",
    "        \"\"\")\n",
    "        self.bank = ['apple', 'mango', 'melon', 'grape', 'guava', 'lemon', 'peach', 'prune', 'berry']\n",
    "        self.chosen = []\n",
    "        self.under_list=[]\n",
    "        self.right_letter = []\n",
    "        self.wrong_letter = []\n",
    "        self.guessed_letter = []\n",
    "        self.chosen_word = []\n",
    "        self.chances = 7\n",
    "        \n",
    "    def pick (self):\n",
    "        random_word = random.choice(self.bank)\n",
    "        self.random_word = random_word\n",
    "        for r in random_word:\n",
    "            self.chosen.append(r)\n",
    "            self.chosen_word.append(r)\n",
    "        for c in self.chosen:\n",
    "            self.under_list.append('_')\n",
    "        print(self.under_list)\n",
    "    \n",
    "    def main(self):\n",
    "        self.pick()\n",
    "#         print(self.chosen)\n",
    "        while True:\n",
    "            letter=input(\"What's the letter? \")\n",
    "            self.guessed_letter.append(letter)\n",
    "            if letter in self.chosen:\n",
    "                self.right_letter.append(letter)\n",
    "                for i in range(len(self.under_list)):\n",
    "                    if letter == self.chosen[i]:\n",
    "                        self.under_list[i] = letter\n",
    "                        print(self.under_list)\n",
    "                        if \"_\" not in self.under_list: \n",
    "                            print(\"Yay! You won the game!\")\n",
    "                            break\n",
    "            if letter not in self.chosen:  #one attribute\n",
    "                self.wrong_letter.append(letter)\n",
    "                self.chances -= 1     \n",
    "                print(f\"\"\"{self.under_list}\n",
    "                You have {self.chances} of chances left.\"\"\")\n",
    "                if self.chances == 0:\n",
    "                    print(\"You are out of chances to try\")\n",
    "                    break            \n",
    "        \n",
    "              \n",
    "                \n",
    "    \n",
    "\n",
    "            \n",
    "run=Run()\n",
    "run.main()"
   ]
  },
  {
   "cell_type": "code",
   "execution_count": null,
   "metadata": {},
   "outputs": [],
   "source": []
  }
 ],
 "metadata": {
  "kernelspec": {
   "display_name": "Python 3",
   "language": "python",
   "name": "python3"
  },
  "language_info": {
   "codemirror_mode": {
    "name": "ipython",
    "version": 3
   },
   "file_extension": ".py",
   "mimetype": "text/x-python",
   "name": "python",
   "nbconvert_exporter": "python",
   "pygments_lexer": "ipython3",
   "version": "3.8.3"
  }
 },
 "nbformat": 4,
 "nbformat_minor": 2
}
